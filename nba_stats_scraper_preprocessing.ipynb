{
  "nbformat": 4,
  "nbformat_minor": 0,
  "metadata": {
    "colab": {
      "name": "nba-stats-scraper-preprocessing.ipynb",
      "provenance": [],
      "collapsed_sections": [],
      "toc_visible": true
    },
    "kernelspec": {
      "name": "python3",
      "display_name": "Python 3"
    }
  },
  "cells": [
    {
      "cell_type": "code",
      "metadata": {
        "id": "PwT3dKtcFZdq",
        "colab_type": "code",
        "colab": {}
      },
      "source": [
        "import json\n",
        "import requests\n",
        "import pandas as pd\n",
        "import time\n",
        "import numpy as np"
      ],
      "execution_count": 0,
      "outputs": []
    },
    {
      "cell_type": "code",
      "metadata": {
        "id": "2w6Ck_w5ik15",
        "colab_type": "code",
        "outputId": "cad1bf18-db3a-40fc-bfe7-aa4a5b8678ef",
        "colab": {
          "base_uri": "https://localhost:8080/",
          "height": 122
        }
      },
      "source": [
        "from google.colab import drive\n",
        "\n",
        "drive.mount('/content/drive')"
      ],
      "execution_count": 2,
      "outputs": [
        {
          "output_type": "stream",
          "text": [
            "Go to this URL in a browser: https://accounts.google.com/o/oauth2/auth?client_id=947318989803-6bn6qk8qdgf4n4g3pfee6491hc0brc4i.apps.googleusercontent.com&redirect_uri=urn%3aietf%3awg%3aoauth%3a2.0%3aoob&response_type=code&scope=email%20https%3a%2f%2fwww.googleapis.com%2fauth%2fdocs.test%20https%3a%2f%2fwww.googleapis.com%2fauth%2fdrive%20https%3a%2f%2fwww.googleapis.com%2fauth%2fdrive.photos.readonly%20https%3a%2f%2fwww.googleapis.com%2fauth%2fpeopleapi.readonly\n",
            "\n",
            "Enter your authorization code:\n",
            "··········\n",
            "Mounted at /content/drive\n"
          ],
          "name": "stdout"
        }
      ]
    },
    {
      "cell_type": "markdown",
      "metadata": {
        "id": "yvQSBeTehigE",
        "colab_type": "text"
      },
      "source": [
        "# Stats scraper"
      ]
    },
    {
      "cell_type": "code",
      "metadata": {
        "id": "qHLQcqv2fAHM",
        "colab_type": "code",
        "colab": {}
      },
      "source": [
        "# grabs data from stats.nba.com and stores in dataframe\n",
        "# WARNING: VERY very VERY slow.\n",
        "# Future improvement: run multiple instances. Containers? Mapreduce?\n",
        "\n",
        "game_ids = {}\n",
        "for year in range(2009, 2020):\n",
        "  for month in range(1, 13):\n",
        "    for day in range(1, 32):\n",
        "      month_ = (\"{:02d}\".format(month))\n",
        "      day_ = (\"{:02d}\".format(day))\n",
        "      print(\"Getting game_ids from \" + month_ + \"/\" + day_ + \"/\" + str(year))\n",
        "      url = \"https://stats.nba.com/stats/scoreboardV2?DayOffset=0&LeagueID=00&gameDate={month}%2F{day}%2F{year}\".format(month=str(month_),day=str(day_), year=str(year))\n",
        "      header = {'User-Agent': \"test\"}\n",
        "      try:\n",
        "        data = requests.get(url, headers = header).json()\n",
        "        games = data[\"resultSets\"][0][\"rowSet\"]\n",
        "        for i in range(0, len(games)):\n",
        "          game_id = games[i][2]\n",
        "          if game_id[2] == '2' or game_id[2] == '4': # 2 reps regula season, 4 reps playoffs (1 reps preseason, 3 reps all star game)\n",
        "            away_team_name = data[\"resultSets\"][1][\"rowSet\"][i*2][5] + \" \" + data[\"resultSets\"][1][\"rowSet\"][i*2][6]\n",
        "            away_record = data[\"resultSets\"][1][\"rowSet\"][i*2][7]\n",
        "            home_team_name = data[\"resultSets\"][1][\"rowSet\"][i*2 + 1][5] + \" \" + data[\"resultSets\"][1][\"rowSet\"][i*2 + 1][6]\n",
        "            home_record = data[\"resultSets\"][1][\"rowSet\"][i*2 + 1][7]\n",
        "            last_game_id = data[\"resultSets\"][3][\"rowSet\"][i][1]\n",
        "            away_score = data[\"resultSets\"][1][\"rowSet\"][i*2][22]\n",
        "            home_score = data[\"resultSets\"][1][\"rowSet\"][i*2 + 1][22]\n",
        "            result = str(away_score) + \"-\" + str(home_score)\n",
        "            is_playoff_game = 1 if game_id[2] == '4' else 0\n",
        "            winning_team = away_team_name if away_score > home_score else home_team_name\n",
        "            game_ids[game_id] = (away_team_name, away_record, home_team_name, home_record, last_game_id, result, is_playoff_game, winning_team)\n",
        "      except requests.exceptions.RequestException as e:\n",
        "        continue\n",
        "      except Exception as e:\n",
        "        if data == \"\":\n",
        "          print(\"passed\", url)\n",
        "        else:\n",
        "          print(\"Jk, this day isn't valid\")\n",
        "        pass\n",
        "df = pd.DataFrame(game_ids)\n",
        "df_t = df.T\n",
        "df_t.columns = [\"away team\", \"away team record\",  \"home team\", \"home team record\", \"last game's id\", \"result(away-home)\", \"playoff game\", \"winning team\"]\n",
        "df_t"
      ],
      "execution_count": 0,
      "outputs": []
    },
    {
      "cell_type": "code",
      "metadata": {
        "id": "FhqklayEjD_q",
        "colab_type": "code",
        "colab": {}
      },
      "source": [
        "df = df_t\n",
        "df.to_csv(\"games_2009_to_2019.csv\")"
      ],
      "execution_count": 0,
      "outputs": []
    },
    {
      "cell_type": "code",
      "metadata": {
        "id": "9jduXrxTkL-M",
        "colab_type": "code",
        "colab": {}
      },
      "source": [
        "from google.colab import files\n",
        "files.download('games_2009_to_2019.csv')"
      ],
      "execution_count": 0,
      "outputs": []
    },
    {
      "cell_type": "markdown",
      "metadata": {
        "id": "dMsDcJm-mJMC",
        "colab_type": "text"
      },
      "source": [
        "# Preprocessing"
      ]
    },
    {
      "cell_type": "code",
      "metadata": {
        "id": "vI1fuPD0mMEi",
        "colab_type": "code",
        "colab": {}
      },
      "source": [
        "df = pd.read_csv('/content/drive/My Drive/games_2009_to_2019.csv')"
      ],
      "execution_count": 0,
      "outputs": []
    },
    {
      "cell_type": "code",
      "metadata": {
        "id": "I-v2MmYp-DfG",
        "colab_type": "code",
        "colab": {}
      },
      "source": [
        "# df sometimes adds an extra indexing column and i'm not sure when lol\n",
        "# this drops the extra column and renames the game_id column so it's consistent with the others\n",
        "df = df.drop(columns=['Unnamed: 0'])\n",
        "df = df.rename(columns={'Unnamed: 0.1': 'Unnamed: 0'})"
      ],
      "execution_count": 0,
      "outputs": []
    },
    {
      "cell_type": "code",
      "metadata": {
        "id": "GpWjjNrtmsXF",
        "colab_type": "code",
        "colab": {}
      },
      "source": [
        "# splits records into separate columns\n",
        "df[['away team wins','away team losses']] = df[\"away team record\"].str.split(\"-\",expand=True).astype(int)\n",
        "df['away team win pct'] = (df[\"away team wins\"]) / ((df[\"away team wins\"]) + (df[\"away team losses\"]))\n",
        "df[['home team wins','home team losses']] = df[\"home team record\"].str.split(\"-\",expand=True).astype(int)\n",
        "df['home team win pct'] = (df[\"home team wins\"]) / ((df[\"home team wins\"]) + (df[\"home team losses\"]))\n",
        "\n",
        "# splits scores into separate columns\n",
        "scores = df[\"result(away-home)\"].str.split(\"-\",expand=True).astype(int)\n",
        "df['point differential'] = abs(scores[0] - scores[1])\n",
        "df[['away points', 'home points']] = df[\"result(away-home)\"].str.split(\"-\",expand=True).astype(int)"
      ],
      "execution_count": 0,
      "outputs": []
    },
    {
      "cell_type": "code",
      "metadata": {
        "id": "L_Av2q27TFbM",
        "colab_type": "code",
        "colab": {}
      },
      "source": [
        "# sets game_id as index (it's called \"Unnamed: 0\", idk why)\n",
        "df.set_index(\"Unnamed: 0\", inplace=True)\n",
        "df.head()"
      ],
      "execution_count": 0,
      "outputs": []
    },
    {
      "cell_type": "code",
      "metadata": {
        "id": "_MJms32e8WpZ",
        "colab_type": "code",
        "colab": {}
      },
      "source": [
        "# creates a list of winners of the last game, then adds it to the df\n",
        "# does that by checking if last game id is in our df. If yes, get the winner, else return NA\n",
        "list_ = []\n",
        "id_list = df.index.tolist()\n",
        "for i, row in df.iterrows():\n",
        "  last_gm_id = np.int64(row[4])\n",
        "  if last_gm_id in id_list:\n",
        "    l_g_winner = df.loc[last_gm_id]['winning team']\n",
        "    list_.append(l_g_winner)\n",
        "  else:\n",
        "    list_.append('NA')\n",
        "\n",
        "df['last game winner'] = list_"
      ],
      "execution_count": 0,
      "outputs": []
    },
    {
      "cell_type": "markdown",
      "metadata": {
        "id": "Gn7aX2qB8bna",
        "colab_type": "text"
      },
      "source": [
        "# PPG\n",
        "Calculating and adding PPG to df"
      ]
    },
    {
      "cell_type": "code",
      "metadata": {
        "id": "W2iAK_h6wCln",
        "colab_type": "code",
        "colab": {}
      },
      "source": [
        "# iterates through each row\n",
        "# adds a teams points to a dict that keeps track of teams' ppg\n",
        "# maintains running list of ppg at the time of each game\n",
        "away_team_ppg = []\n",
        "home_team_ppg = []\n",
        "\n",
        "\n",
        "ppg_dict = {}\n",
        "for i, row in df.iterrows():\n",
        "  if str(i)[-4:] == \"0001\":\n",
        "    ppg_dict = {}\n",
        "    # print(str(i))\n",
        "    print(row)\n",
        "\n",
        "  if row[0] in ppg_dict:\n",
        "    ppg_dict[row[0]][0] += df.loc[i]['away points']\n",
        "    ppg_dict[row[0]][1] += 1.0\n",
        "    ppg_dict[row[0]][2] = ppg_dict[row[0]][0] / ppg_dict[row[0]][1]\n",
        "  else: \n",
        "    ppg_dict[row[0]] = [df.loc[i]['away points'], 1.0, df.loc[i]['away points']]\n",
        "   \n",
        "  away_team_ppg.append(ppg_dict[row[0]][2])\n",
        "\n",
        "  if row[2] in ppg_dict:\n",
        "    ppg_dict[row[2]][0] += df.loc[i]['home points']\n",
        "    ppg_dict[row[2]][1] += 1.0\n",
        "    ppg_dict[row[2]][2] = ppg_dict[row[2]][0] / ppg_dict[row[2]][1]\n",
        "  else: \n",
        "    ppg_dict[row[2]] = [df.loc[i]['home points'], 1.0, df.loc[i]['home points']]\n",
        "    \n",
        "  home_team_ppg.append(ppg_dict[row[2]][2])\n",
        "ppg_dict\n",
        "\n",
        "# df['away team ppg'] = away_team_ppg\n",
        "# df['home team ppg'] = home_team_ppg"
      ],
      "execution_count": 0,
      "outputs": []
    },
    {
      "cell_type": "markdown",
      "metadata": {
        "id": "OhV7bngTDeYt",
        "colab_type": "text"
      },
      "source": [
        "# export csv"
      ]
    },
    {
      "cell_type": "code",
      "metadata": {
        "id": "T20YPkLSb-ZL",
        "colab_type": "code",
        "colab": {}
      },
      "source": [
        "df.to_csv('games_2009_to_2019_updated_2.csv')\n",
        "from google.colab import files\n",
        "files.download('games_2009_to_2019_updated_2.csv')"
      ],
      "execution_count": 0,
      "outputs": []
    }
  ]
}